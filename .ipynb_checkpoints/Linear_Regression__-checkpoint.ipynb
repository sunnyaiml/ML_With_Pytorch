{
 "cells": [
  {
   "cell_type": "markdown",
   "id": "ca4a7477-5bba-4a96-9ff5-8fe1bcd53ee3",
   "metadata": {},
   "source": [
    "# Understanding Linear Regression: A Foundational Machine Learning Model\n",
    "\n",
    "Linear regression is a fundamental statistical method used for predictive analysis. It allows us to model the relationship between a dependent variable and one or more independent variables by fitting a linear equation to observed data.\n",
    "\n",
    "**When do we use Linear Regression?**\n",
    "We apply linear regression when our goal is to predict the value of one variable based on another, especially when we hypothesize a linear relationship exists between them.\n",
    "\n",
    "**Example:** Predicting a person's weight based on their height."
   ]
  },
  {
   "cell_type": "markdown",
   "id": "6659c91b-93bb-4f7b-8d7a-a47fa70834d5",
   "metadata": {},
   "source": [
    "_"
   ]
  },
  {
   "cell_type": "markdown",
   "id": "4c90516e-cfc5-4da1-b44f-392c78668dab",
   "metadata": {},
   "source": [
    "# Key Components of a Linear Regression Model\n",
    "\n",
    "To build and understand a linear regression model, it's crucial to grasp its fundamental components:\n",
    "\n",
    "*   **1. Dependent Variable (Y):**\n",
    "    *   This is the variable we aim to predict or explain.\n",
    "    *   **Examples:** Weight, Crop Yield, Sales Revenue.\n",
    "\n",
    "*   **2. Independent Variable (X):**\n",
    "    *   Also known as the predictor or explanatory variable, this is the input used to predict Y.\n",
    "    *   **Examples:** Height, Weather Conditions, Market Demand.\n",
    "\n",
    "*   **3. Intercept (a):**\n",
    "    *   The value of the dependent variable (Y) when all independent variables (X) are zero. It represents the point where the regression line crosses the Y-axis.\n",
    "\n",
    "*   **4. Slope (b):**\n",
    "    *   This coefficient quantifies the change in the dependent variable (Y) for every one-unit increase in the independent variable (X). It indicates the steepness and direction of the regression line.\n",
    "\n",
    "*   **5. Error Term (ε):**\n",
    "    *   Represents the irreducible error or noise in the data. It accounts for the difference between the actual observed values and the values predicted by the model, acknowledging that real-world data is rarely perfectly linear."
   ]
  },
  {
   "cell_type": "markdown",
   "id": "7d06a21f-7c00-49ab-8fdf-83304efb4926",
   "metadata": {},
   "source": [
    "# The Linear Regression Equation\n",
    "\n",
    "The relationship between the dependent and independent variables in linear regression is mathematically expressed as:\n",
    "\n",
    "$$\n",
    "Y = a + bX + \\epsilon\n",
    "$$\n",
    "\n",
    "Where:\n",
    "*   **Y:** The Dependent Variable (what we predict)\n",
    "*   **a:** The Intercept\n",
    "*   **b:** The Slope\n",
    "*   **X:** The Independent Variable (input)\n",
    "*   **ε:** The Error Term\n",
    "\n",
    "This equation represents a straight line. The core objective of linear regression is to find the optimal values for 'a' (intercept) and 'b' (slope) that allow this line to best fit the given data, minimizing the error term."
   ]
  },
  {
   "cell_type": "code",
   "execution_count": null,
   "id": "cd45cf96-fd47-47e9-a791-5155fc0c6a33",
   "metadata": {},
   "outputs": [],
   "source": []
  },
  {
   "cell_type": "code",
   "execution_count": 1,
   "id": "c13a6a58-86ae-4025-85d0-cedf606b5223",
   "metadata": {},
   "outputs": [],
   "source": [
    "\n",
    "import numpy as np\n",
    "import torch"
   ]
  },
  {
   "cell_type": "markdown",
   "id": "4303d576-280a-40f8-a090-8619c7ad16ff",
   "metadata": {},
   "source": [
    "# Data Preparation: Setting Up Our Training Dataset\n",
    "\n",
    "Before we can train our linear regression model, we need to prepare our input and target data. For this project, we'll use NumPy arrays for initial data handling, which is a common practice when working with datasets, especially when reading from CSV files. These arrays will then be converted into PyTorch tensors, which are essential for leveraging PyTorch's automatic differentiation capabilities."
   ]
  },
  {
   "cell_type": "code",
   "execution_count": 2,
   "id": "72a541f9-976c-42a6-8319-6e415cb7a9ff",
   "metadata": {},
   "outputs": [],
   "source": [
    "#  Input (temp, rainfall, humidity)\n",
    "\n",
    "\n",
    "Inputs = np.array([\n",
    "                   [73, 67, 43], \n",
    "                   [91, 88, 64], \n",
    "                   [87, 134, 58], \n",
    "                   [102, 43, 37], \n",
    "                   [69, 96, 70]\n",
    "                    ], dtype='float32')"
   ]
  },
  {
   "cell_type": "code",
   "execution_count": 3,
   "id": "937c7efc-e562-436a-92b7-cced93aeaf0d",
   "metadata": {},
   "outputs": [],
   "source": [
    "# Targets (apples, oranges)\n",
    "\n",
    "Targets = np.array([\n",
    "                    [56, 70], \n",
    "                    [81, 101], \n",
    "                    [119, 133], \n",
    "                    [22, 37], \n",
    "                    [103, 119] \n",
    "                    ], dtype='float32')"
   ]
  },
  {
   "cell_type": "markdown",
   "id": "b0f582ec-32b0-49a5-85b5-eac816e9d7e3",
   "metadata": {},
   "source": [
    "so we create numpy array beacuse that is typically how you work with traning data\n",
    "read CSV file as numpy arrays, to do some processing and then covert them to pytorch tensor....\n",
    "\n"
   ]
  },
  {
   "cell_type": "code",
   "execution_count": 4,
   "id": "e64ac728-0b38-4bb9-be89-d991bbdb5bd2",
   "metadata": {},
   "outputs": [
    {
     "name": "stdout",
     "output_type": "stream",
     "text": [
      "tensor([[ 73.,  67.,  43.],\n",
      "        [ 91.,  88.,  64.],\n",
      "        [ 87., 134.,  58.],\n",
      "        [102.,  43.,  37.],\n",
      "        [ 69.,  96.,  70.]])\n",
      "tensor([[ 56.,  70.],\n",
      "        [ 81., 101.],\n",
      "        [119., 133.],\n",
      "        [ 22.,  37.],\n",
      "        [103., 119.]])\n"
     ]
    }
   ],
   "source": [
    "# create input and output tensor\n",
    "\n",
    "\n",
    "inputs = torch.from_numpy(Inputs)\n",
    "targets = torch.from_numpy(Targets)\n",
    "\n",
    "print(inputs)\n",
    "print(targets)"
   ]
  },
  {
   "cell_type": "markdown",
   "id": "440acd61-bab6-4f76-9902-08d6cb45f53f",
   "metadata": {},
   "source": [
    "#### now lets create Linear regression model from scratch"
   ]
  },
  {
   "cell_type": "markdown",
   "id": "b4d31024-8370-43bd-8dee-203fe80ee22f",
   "metadata": {},
   "source": [
    "##### The weights and biases (w11, w12,... w23, b1 & b2) can also be represented as matrices, \n",
    "##### initialized as random values. \n",
    "##### The first row of w and the first element of b are used to predict the first target variable\n",
    "##### i.e. yield of apples, and similarly the second for oranges."
   ]
  },
  {
   "cell_type": "markdown",
   "id": "f81a2327-3699-483f-b258-115f30ea2848",
   "metadata": {},
   "source": [
    "\n",
    "# Building a Linear Regression Model from Scratch in PyTorch\n",
    "\n",
    "Now, let's construct our linear regression model. We'll define the weights and biases, which are the learnable parameters of our model.\n",
    "\n",
    "**Weights and Biases Initialization:**\n",
    "The weights (w) and biases (b) are initialized as random values. In our case, 'w' is a 2x3 matrix and 'b' is a vector of 2 values.\n",
    "*   The first row of 'w' and the first element of 'b' will be used to predict the first target variable (e.g., yield of apples).\n",
    "*   Similarly, the second row of 'w' and the second element of 'b' will predict the second target variable (e.g., yield of oranges)."
   ]
  },
  {
   "cell_type": "code",
   "execution_count": 5,
   "id": "3cd20b47-5a8b-47d6-8a50-999e224e8581",
   "metadata": {},
   "outputs": [
    {
     "name": "stdout",
     "output_type": "stream",
     "text": [
      "tensor([[ 0.0895,  1.8823,  0.0517],\n",
      "        [-0.4927, -1.2695,  0.1607]], requires_grad=True)\n",
      "tensor([0.6706, 0.4246], requires_grad=True)\n"
     ]
    }
   ],
   "source": [
    "# weights and biases\n",
    "\n",
    "    \n",
    "w = torch.randn(2, 3, requires_grad=True) # we created 2 by 3 matrix of random value\n",
    "b = torch.randn(2, requires_grad=True) # we created a vertex of 2 value random value\n",
    "\n",
    "print(w)\n",
    "print(b)"
   ]
  },
  {
   "cell_type": "markdown",
   "id": "e6da6079-8363-4fc3-b0bf-ca8822e171e9",
   "metadata": {},
   "source": [
    "#### We can define the model as follows:\n",
    "\n"
   ]
  },
  {
   "cell_type": "code",
   "execution_count": 6,
   "id": "4c5c98b8-28b4-405d-b498-b0f88b66c5c3",
   "metadata": {},
   "outputs": [],
   "source": [
    "def model(x):\n",
    "    return x @ w.t() + b"
   ]
  },
  {
   "cell_type": "markdown",
   "id": "08e24ea3-6b46-4310-90e5-e9a5ecf17d67",
   "metadata": {},
   "source": [
    "#### '@' represents matrix multiplication in PyTorch, \n",
    "#### '.t()' method returns the transpose of a tensor.\n",
    "\n",
    "The matrix obtained by passing the input data into the model is a set of predictions for the target variables."
   ]
  },
  {
   "cell_type": "code",
   "execution_count": 7,
   "id": "8fd70985-24ea-48b6-9b6a-48673d5dd40d",
   "metadata": {},
   "outputs": [
    {
     "name": "stdout",
     "output_type": "stream",
     "text": [
      "tensor([[ 135.5386, -113.6866],\n",
      "        [ 177.7626, -145.8393],\n",
      "        [ 263.6803, -203.2306],\n",
      "        [  92.6485,  -98.4701],\n",
      "        [ 191.1623, -144.1923]], grad_fn=<AddBackward0>)\n"
     ]
    }
   ],
   "source": [
    "# Generate predictions\n",
    "\n",
    "preds = model(inputs)\n",
    "print(preds)"
   ]
  },
  {
   "cell_type": "code",
   "execution_count": 8,
   "id": "6368e496-3276-41d3-894e-a1bb53bf4291",
   "metadata": {},
   "outputs": [
    {
     "name": "stdout",
     "output_type": "stream",
     "text": [
      "tensor([[ 56.,  70.],\n",
      "        [ 81., 101.],\n",
      "        [119., 133.],\n",
      "        [ 22.,  37.],\n",
      "        [103., 119.]])\n"
     ]
    }
   ],
   "source": [
    "# now we compare with Targets\n",
    "\n",
    "print(targets)"
   ]
  },
  {
   "cell_type": "code",
   "execution_count": null,
   "id": "e122fcff-5ec3-4bd9-88a2-f78b53e98c4b",
   "metadata": {},
   "outputs": [],
   "source": []
  },
  {
   "cell_type": "markdown",
   "id": "d9185da0-96a9-48bb-91a0-5cdb406f2349",
   "metadata": {},
   "source": [
    "#### 🚨 Observing the Initial Model Performance\n",
    "\n",
    "We can clearly see there’s a **significant difference** between the predicted values and the actual target variables.\n",
    "\n",
    "---\n",
    "\n",
    "This isn’t surprising — we’ve **initialized the model with random weights and biases**, so it hasn't yet learned any meaningful patterns from the data.  \n",
    "As a result:\n",
    "\n",
    "- Predictions are far off.\n",
    "- The error (loss) is relatively high.\n",
    "- Performance is poor, as expected at this stage.\n",
    "\n",
    "---\n",
    "\n",
    "### 🔧 What’s Next?\n",
    "\n",
    "We can’t expect the model to perform well right out of the gate. Now begins the **optimization process** — where we'll train the model using gradient descent to iteratively **adjust the weights and biases**, minimizing the loss and improving accuracy over time."
   ]
  },
  {
   "cell_type": "code",
   "execution_count": null,
   "id": "bf0358e2-71b2-40ea-b03b-a8199a05fcae",
   "metadata": {},
   "outputs": [],
   "source": []
  },
  {
   "cell_type": "markdown",
   "id": "4b8e793f-d9b7-4107-873f-f61cddf58944",
   "metadata": {},
   "source": [
    "### Loss function\n"
   ]
  },
  {
   "cell_type": "markdown",
   "id": "eea3d68f-d175-4ca6-866d-4e09a6bfcbd1",
   "metadata": {},
   "source": [
    "### 📏 Evaluating Model Performance: Mean Squared Error (MSE)\n",
    "\n",
    "Before improving our model, we need a way to **measure how well it's performing**. One common method is to calculate the **Mean Squared Error (MSE)** between the predictions and the actual targets.\n",
    "\n",
    "---\n",
    "\n",
    "### 🧮 Steps to Calculate MSE\n",
    "\n",
    "1. **Calculate the difference** between the two matrices — predictions (`preds`) and actual values (`targets`).\n",
    "2. **Square each element** of the difference matrix to eliminate negative values.\n",
    "3. **Compute the average** of all the squared differences.\n",
    "4. The final result is a **single scalar value** known as the **Mean Squared Error (MSE)**.\n",
    "\n",
    "---\n",
    "\n",
    "### 🎯 Why MSE?\n",
    "\n",
    "- MSE gives us a **quantitative measure of error**.\n",
    "- A **higher value** indicates worse performance, while a **lower MSE** means the model’s predictions are close to the actual values.\n",
    "\n",
    "Let’s use this metric to monitor and guide our improvements! 🔧📉"
   ]
  },
  {
   "cell_type": "code",
   "execution_count": 9,
   "id": "51bb7401-2063-41b6-8cf7-980362295a7c",
   "metadata": {},
   "outputs": [],
   "source": [
    "# MSE Loss \n",
    "\n",
    "def mse(t1 , t2):\n",
    "    diff = t1-t2\n",
    "    return torch.sum(diff**2)/diff.numel() #numel method returns the number of elements in a tensor."
   ]
  },
  {
   "cell_type": "code",
   "execution_count": 10,
   "id": "7da5fd6b-4887-44e3-94c4-73145560d2c1",
   "metadata": {},
   "outputs": [
    {
     "name": "stdout",
     "output_type": "stream",
     "text": [
      "tensor(34472.9297, grad_fn=<DivBackward0>)\n"
     ]
    }
   ],
   "source": [
    "\n",
    "#Compute loss\n",
    "\n",
    "loss= mse(preds, targets)\n",
    "print(loss)\n"
   ]
  },
  {
   "cell_type": "code",
   "execution_count": 11,
   "id": "ece63d10-95f3-4e7e-bc4c-831b11264b9a",
   "metadata": {},
   "outputs": [
    {
     "name": "stdout",
     "output_type": "stream",
     "text": [
      "185.66887107832588\n"
     ]
    }
   ],
   "source": [
    "import math\n",
    "print(math.sqrt(loss))"
   ]
  },
  {
   "cell_type": "markdown",
   "id": "ab14b03e-6438-445a-89e0-190e830c5db7",
   "metadata": {},
   "source": [
    "# Interpreting the Root Mean Squared Error (RMSE)\n",
    "\n",
    "After calculating the Mean Squared Error (MSE), taking its square root gives us the **Root Mean Squared Error (RMSE)**. RMSE is particularly useful because it returns the error in the same units as the dependent variable, making it more interpretable.\n",
    "\n",
    "**Our Current RMSE:** Approximately **185.66 units**.\n",
    "\n",
    "**What does this mean?**\n",
    "*   On average, each prediction made by our current model differs from the actual target value by about **185.66 units**.\n",
    "*   Given that our actual target values typically range from 50 to 200, an RMSE of 185.66 indicates a **very large error**. This suggests that our model is currently struggling significantly to capture the underlying patterns in the data.\n",
    "\n",
    "**Key Insight:**\n",
    "A **lower RMSE** indicates a better-performing model, as its predictions are closer to the actual values. A high RMSE, like the one we're seeing, is a strong signal that the model requires substantial improvement through further training and optimization."
   ]
  },
  {
   "cell_type": "code",
   "execution_count": null,
   "id": "83f50b1b-2b87-4654-b2e9-669c3e0781a3",
   "metadata": {},
   "outputs": [],
   "source": []
  },
  {
   "cell_type": "markdown",
   "id": "781c85f9-e76d-480f-9524-dc652e72cfbb",
   "metadata": {},
   "source": [
    "# Computing Gradients: The Engine of Learning\n",
    "\n",
    "In PyTorch, a powerful feature is its ability to automatically compute the gradients (or derivatives) of the loss function with respect to the model's parameters (weights and biases). This is possible because we set `requires_grad=True` when initializing `w` and `b`.\n",
    "\n",
    "**Why are Gradients Important?**\n",
    "Gradients tell us the direction and magnitude of the steepest ascent of the loss function. In optimization, we want to move in the opposite direction (steepest descent) to minimize the loss."
   ]
  },
  {
   "cell_type": "code",
   "execution_count": 12,
   "id": "df2a0b90-9e49-4cfa-80c5-739e5cb65f6f",
   "metadata": {},
   "outputs": [],
   "source": [
    "# Compute gradients\n",
    "loss.backward()\n"
   ]
  },
  {
   "cell_type": "code",
   "execution_count": 13,
   "id": "2f3870ea-1c01-4f0f-b311-920b0b71a311",
   "metadata": {},
   "outputs": [
    {
     "name": "stdout",
     "output_type": "stream",
     "text": [
      "tensor([[  8097.6494,   8946.5645,   5357.9561],\n",
      "        [-19420.3555, -22035.0859, -13326.6934]])\n",
      "tensor([[ 0.0895,  1.8823,  0.0517],\n",
      "        [-0.4927, -1.2695,  0.1607]], requires_grad=True)\n"
     ]
    }
   ],
   "source": [
    "#Gradient For Weight\n",
    "print(w.grad)\n",
    "print(w)"
   ]
  },
  {
   "cell_type": "code",
   "execution_count": null,
   "id": "e4eddf8e-cb2a-4c28-8e44-f459bc32e6c3",
   "metadata": {},
   "outputs": [],
   "source": []
  },
  {
   "cell_type": "markdown",
   "id": "7ad6b1b1-8eef-48eb-a5ce-efbf7dad16ae",
   "metadata": {},
   "source": [
    "# Loss Function Behavior and Gradient Resetting in PyTorch\n",
    "\n",
    "The loss function in linear regression is a **quadratic function** of our weights and biases. Our primary objective is to find the specific set of weights and biases that minimize this loss function.\n",
    "\n",
    "**Why Reset Gradients?**\n",
    "After computing gradients for a given batch or epoch, it's crucial to **reset them to zero** before the next iteration. This is done by calling `param.grad.zero_()` or `optimizer.zero_grad()`.\n",
    "\n",
    "**Reasoning:**\n",
    "PyTorch accumulates gradients by default. If we don't reset them, the gradients from previous computations would add up, leading to incorrect updates of the weights and biases in subsequent optimization steps. Resetting ensures that each gradient calculation is independent and based solely on the current iteration's loss."
   ]
  },
  {
   "cell_type": "code",
   "execution_count": 14,
   "id": "4cb2eba4-34dc-4877-9c19-ee24a7dbe010",
   "metadata": {},
   "outputs": [
    {
     "name": "stdout",
     "output_type": "stream",
     "text": [
      "tensor([[0., 0., 0.],\n",
      "        [0., 0., 0.]])\n",
      "tensor([0., 0.])\n"
     ]
    }
   ],
   "source": [
    "w.grad.zero_()\n",
    "b.grad.zero_()\n",
    "print(w.grad)\n",
    "print(b.grad)"
   ]
  },
  {
   "cell_type": "markdown",
   "id": "165f2d35-dae1-4a4d-8beb-4cdd167a182b",
   "metadata": {},
   "source": [
    "## 🎯 Adjust Weights and Biases Using Gradient Descent\n",
    "\n",
    "We'll reduce the loss and improve our model using the **gradient descent optimization algorithm**, which consists of the following steps:\n",
    "\n",
    "---\n",
    "\n",
    "### 🔁 Gradient Descent Steps:\n",
    "\n",
    "1. **Generate predictions**  \n",
    "   Feed inputs through the model to obtain predicted values.\n",
    "\n",
    "2. **Calculate the loss**  \n",
    "   Measure how far off the predictions are from actual values using a loss function.\n",
    "\n",
    "3. **Compute gradients w.r.t. weights and biases**  \n",
    "   Use backpropagation to find how the loss changes with respect to each parameter.\n",
    "\n",
    "4. **Adjust the weights and biases**  \n",
    "   Update them by subtracting a small value proportional to the gradient (learning rate × gradient).\n",
    "\n",
    "5. **Reset gradients to zero**  \n",
    "   Clear the accumulated gradients before the next iteration.\n"
   ]
  },
  {
   "cell_type": "code",
   "execution_count": null,
   "id": "ea6764b9-29fb-42c8-9668-6ebce2919e8f",
   "metadata": {},
   "outputs": [],
   "source": []
  },
  {
   "cell_type": "code",
   "execution_count": 15,
   "id": "b6be3927-77ef-49ea-81c6-a8e228bd27f7",
   "metadata": {},
   "outputs": [
    {
     "name": "stdout",
     "output_type": "stream",
     "text": [
      "tensor([[ 135.5386, -113.6866],\n",
      "        [ 177.7626, -145.8393],\n",
      "        [ 263.6803, -203.2306],\n",
      "        [  92.6485,  -98.4701],\n",
      "        [ 191.1623, -144.1923]], grad_fn=<AddBackward0>)\n"
     ]
    }
   ],
   "source": [
    "# Generate predictions\n",
    "\n",
    "preds = model(inputs)\n",
    "print(preds)"
   ]
  },
  {
   "cell_type": "code",
   "execution_count": 16,
   "id": "a37b8338-519d-4ca2-b635-a5622c8535d0",
   "metadata": {},
   "outputs": [
    {
     "name": "stdout",
     "output_type": "stream",
     "text": [
      "tensor(34472.9297, grad_fn=<DivBackward0>)\n"
     ]
    }
   ],
   "source": [
    "# Calculate the loss\n",
    "loss = mse(preds, targets)\n",
    "print(loss)"
   ]
  },
  {
   "cell_type": "code",
   "execution_count": 17,
   "id": "12ba9778-110d-4616-b53f-ec1427a92884",
   "metadata": {},
   "outputs": [],
   "source": [
    "loss.backward()"
   ]
  },
  {
   "cell_type": "code",
   "execution_count": 18,
   "id": "843120db-aaed-4a57-9004-9136ba7f9f94",
   "metadata": {},
   "outputs": [
    {
     "name": "stdout",
     "output_type": "stream",
     "text": [
      "tensor([[  8097.6494,   8946.5645,   5357.9561],\n",
      "        [-19420.3555, -22035.0859, -13326.6934]])\n",
      "tensor([  95.9585, -233.0838])\n"
     ]
    }
   ],
   "source": [
    "print(w.grad)\n",
    "print(b.grad)"
   ]
  },
  {
   "cell_type": "code",
   "execution_count": 19,
   "id": "e1383928-261e-4c45-a126-f9ada07e4e1f",
   "metadata": {},
   "outputs": [
    {
     "name": "stdout",
     "output_type": "stream",
     "text": [
      "tensor([[  8097.6494,   8946.5645,   5357.9561],\n",
      "        [-19420.3555, -22035.0859, -13326.6934]])\n",
      "tensor([[ 0.0895,  1.8823,  0.0517],\n",
      "        [-0.4927, -1.2695,  0.1607]], requires_grad=True)\n"
     ]
    }
   ],
   "source": [
    "# Compute gradients\n",
    "\n",
    "print(w.grad)\n",
    "print(w)"
   ]
  },
  {
   "cell_type": "markdown",
   "id": "0e0b76bd-2ef3-46ec-b525-4fe5e2824065",
   "metadata": {},
   "source": [
    "# Optimizing with Gradient Descent: Adjusting Weights and Biases\n",
    "\n",
    "To reduce the loss and enhance our model's performance, we employ the **Gradient Descent optimization algorithm**. This iterative process systematically adjusts the model's parameters.\n",
    "\n",
    "**The Iterative Steps of Gradient Descent:**\n",
    "\n",
    "1.  **Generate Predictions:**\n",
    "    *   Pass the input data through the current model to obtain predicted values.\n",
    "\n",
    "2.  **Calculate the Loss:**\n",
    "    *   Quantify the discrepancy between the generated predictions and the actual target values using a chosen loss function (e.g., MSE).\n",
    "\n",
    "3.  **Compute Gradients:**\n",
    "    *   Utilize backpropagation to calculate the gradients of the loss with respect to each weight and bias. These gradients indicate the direction and rate of change of the loss function.\n",
    "\n",
    "4.  **Adjust Weights and Biases:**\n",
    "    *   Update the weights and biases by subtracting a small value proportional to their respective gradients. This \"small value\" is determined by the `learning rate` multiplied by the gradient. This step moves the parameters in the direction that minimizes the loss.\n",
    "\n",
    "    $$\n",
    "    \\text{New Parameter} = \\text{Old Parameter} - (\\text{Learning Rate} \\times \\text{Gradient})\n",
    "    $$\n",
    "\n",
    "5.  **Reset Gradients to Zero:**\n",
    "    *   Clear the accumulated gradients from the current iteration. This prepares the model for the next iteration, preventing gradients from previous steps from influencing future updates."
   ]
  },
  {
   "cell_type": "code",
   "execution_count": 20,
   "id": "7b65f68f-f2a4-45af-9826-c37fd52d76ee",
   "metadata": {},
   "outputs": [],
   "source": [
    "# Adjust weights & reset gradients\n",
    "with torch.no_grad():\n",
    "    w -= w.grad * 1e-5\n",
    "    b -= b.grad * 1e-5\n",
    "    w.grad.zero_()\n",
    "    b.grad.zero_()"
   ]
  },
  {
   "cell_type": "code",
   "execution_count": 21,
   "id": "713ce1b5-3724-4b24-af28-71aec19ad201",
   "metadata": {},
   "outputs": [
    {
     "name": "stdout",
     "output_type": "stream",
     "text": [
      "tensor([[ 0.0085,  1.7928, -0.0019],\n",
      "        [-0.2985, -1.0492,  0.2940]], requires_grad=True)\n",
      "tensor([0.6697, 0.4270], requires_grad=True)\n"
     ]
    }
   ],
   "source": [
    "print(w)\n",
    "print(b)"
   ]
  },
  {
   "cell_type": "code",
   "execution_count": 22,
   "id": "6afed121-b49e-4d97-b329-6ea10f357063",
   "metadata": {},
   "outputs": [
    {
     "name": "stdout",
     "output_type": "stream",
     "text": [
      "tensor(23413.2617, grad_fn=<DivBackward0>)\n"
     ]
    }
   ],
   "source": [
    "# Calculate loss\n",
    "preds = model(inputs)\n",
    "loss = mse(preds, targets)\n",
    "print(loss)"
   ]
  },
  {
   "cell_type": "markdown",
   "id": "64e936c7-7d27-4882-a372-4e684aef613e",
   "metadata": {},
   "source": [
    "# Training for Multiple Epochs: Iterative Refinement\n",
    "\n",
    "To further reduce the loss and improve our model's accuracy, we repeat the process of adjusting weights and biases using gradients multiple times. Each complete pass through the entire training dataset is called an **epoch**.\n",
    "\n",
    "By training for a sufficient number of epochs, the model iteratively refines its parameters, gradually moving towards a state where the loss is minimized and predictions become more accurate. We will now train the model for 100 epochs to observe the improvement."
   ]
  },
  {
   "cell_type": "code",
   "execution_count": 23,
   "id": "1f009e80-64a0-4db0-8f46-bbebf54c64bb",
   "metadata": {},
   "outputs": [],
   "source": [
    "# Train for 100 epochs\n",
    "for i in range(100):\n",
    "    preds = model(inputs)\n",
    "    loss = mse(preds, targets)\n",
    "    loss.backward()\n",
    "    with torch.no_grad():\n",
    "        w -= w.grad * 1e-5\n",
    "        b -= b.grad * 1e-5\n",
    "        w.grad.zero_()\n",
    "        b.grad.zero_()"
   ]
  },
  {
   "cell_type": "code",
   "execution_count": 24,
   "id": "f251d604-6d0d-40fc-a240-01fbc64966e4",
   "metadata": {},
   "outputs": [
    {
     "name": "stdout",
     "output_type": "stream",
     "text": [
      "tensor(189.8116, grad_fn=<DivBackward0>)\n"
     ]
    }
   ],
   "source": [
    "# Calculate loss\n",
    "preds = model(inputs)\n",
    "loss = mse(preds, targets)\n",
    "print(loss)"
   ]
  },
  {
   "cell_type": "markdown",
   "id": "fc124ebc-2109-47e3-aead-da3fa73593ea",
   "metadata": {},
   "source": [
    "# Observing the Loss Reduction\n",
    "\n",
    "After training the model for 100 epochs, we can clearly see that the loss has significantly decreased compared to its initial value. This indicates that our Gradient Descent optimization process is effectively guiding the model to learn the underlying patterns in the data and make more accurate predictions."
   ]
  },
  {
   "cell_type": "markdown",
   "id": "10de14e3-f147-40f9-aa93-394d4f29eb65",
   "metadata": {},
   "source": [
    "# Further Training and Improved Predictions\n",
    "\n",
    "Encouraged by the initial loss reduction, we continue training for an additional 50 epochs. As expected, the loss continues to decrease, demonstrating the iterative nature of gradient descent in converging towards an optimal solution.\n",
    "\n",
    "**Current State:**\n",
    "The predictions generated by our model are now remarkably close to the actual target variables. This signifies a well-trained model that has successfully learned the relationships within the data.\n",
    "\n",
    "**Next Steps:**\n",
    "We could achieve even better results by training for a few more epochs, potentially fine-tuning the learning rate, or exploring more advanced optimization techniques. This iterative improvement is a core aspect of machine learning model development."
   ]
  },
  {
   "cell_type": "code",
   "execution_count": 25,
   "id": "4ceddb1e-08fa-4b24-9f35-2571856e5c05",
   "metadata": {},
   "outputs": [
    {
     "data": {
      "text/plain": [
       "tensor([[ 56.9992,  75.5538],\n",
       "        [ 74.7930, 105.3095],\n",
       "        [135.8236, 113.9767],\n",
       "        [ 18.7340,  67.1863],\n",
       "        [ 90.5238, 109.6879]], grad_fn=<AddBackward0>)"
      ]
     },
     "execution_count": 25,
     "metadata": {},
     "output_type": "execute_result"
    }
   ],
   "source": [
    "preds"
   ]
  },
  {
   "cell_type": "code",
   "execution_count": 26,
   "id": "b7ac549f-c17a-4838-8b6a-e8dd9d044426",
   "metadata": {},
   "outputs": [
    {
     "data": {
      "text/plain": [
       "tensor([[ 56.,  70.],\n",
       "        [ 81., 101.],\n",
       "        [119., 133.],\n",
       "        [ 22.,  37.],\n",
       "        [103., 119.]])"
      ]
     },
     "execution_count": 26,
     "metadata": {},
     "output_type": "execute_result"
    }
   ],
   "source": [
    "targets"
   ]
  },
  {
   "cell_type": "code",
   "execution_count": 27,
   "id": "2ff761e2-c89d-4e35-9ee7-a11ca82dfad2",
   "metadata": {},
   "outputs": [],
   "source": [
    "import matplotlib.pyplot as plt"
   ]
  },
  {
   "cell_type": "code",
   "execution_count": 28,
   "id": "1bd71a76-8737-469e-8919-5c4fc93ea936",
   "metadata": {},
   "outputs": [],
   "source": [
    "for i in range(50):\n",
    "    preds = model(inputs)\n",
    "    loss = mse(preds, targets)\n",
    "    loss.backward()\n",
    "    with torch.no_grad():\n",
    "        w -= w.grad * 1e-5\n",
    "        b -= b.grad * 1e-5\n",
    "        w.grad.zero_()\n",
    "        b.grad.zero_()"
   ]
  },
  {
   "cell_type": "code",
   "execution_count": 29,
   "id": "4a1f28c5-65f0-410f-8fc1-d6b1c0d89db9",
   "metadata": {},
   "outputs": [
    {
     "name": "stdout",
     "output_type": "stream",
     "text": [
      "tensor(118.2886, grad_fn=<DivBackward0>)\n"
     ]
    }
   ],
   "source": [
    "print(loss)"
   ]
  },
  {
   "cell_type": "markdown",
   "id": "8e750a7a-fc9a-433f-ac87-b596968c16fb",
   "metadata": {},
   "source": [
    "it's getting lower "
   ]
  },
  {
   "cell_type": "code",
   "execution_count": 30,
   "id": "66f1e75d-772a-4879-8076-a095cc473c27",
   "metadata": {},
   "outputs": [
    {
     "data": {
      "text/plain": [
       "tensor([[ 57.2467,  74.1533],\n",
       "        [ 75.3032, 104.1961],\n",
       "        [134.2652, 118.7605],\n",
       "        [ 20.2069,  59.0304],\n",
       "        [ 90.5520, 112.5102]], grad_fn=<AddBackward0>)"
      ]
     },
     "execution_count": 30,
     "metadata": {},
     "output_type": "execute_result"
    }
   ],
   "source": [
    "preds"
   ]
  },
  {
   "cell_type": "code",
   "execution_count": null,
   "id": "cf8e945e-5677-4409-9792-a021ce7e1059",
   "metadata": {},
   "outputs": [],
   "source": []
  },
  {
   "cell_type": "code",
   "execution_count": 31,
   "id": "989660ce-c148-4493-9a37-96277cd7da47",
   "metadata": {},
   "outputs": [
    {
     "data": {
      "text/plain": [
       "tensor([[ 56.,  70.],\n",
       "        [ 81., 101.],\n",
       "        [119., 133.],\n",
       "        [ 22.,  37.],\n",
       "        [103., 119.]])"
      ]
     },
     "execution_count": 31,
     "metadata": {},
     "output_type": "execute_result"
    }
   ],
   "source": [
    "targets"
   ]
  },
  {
   "cell_type": "markdown",
   "id": "b2b1332a-ec31-4be3-a8a1-dfe07dacaed0",
   "metadata": {},
   "source": [
    "### The prediction are now quite close to the target variables, and we can get even better results by training for a few more epochs."
   ]
  },
  {
   "cell_type": "code",
   "execution_count": 235,
   "id": "23719c3b-183b-49f1-94ac-661d8caa87a6",
   "metadata": {},
   "outputs": [
    {
     "data": {
      "image/png": "[encoded data removed]",
      "text/plain": [
       "<Figure size 640x480 with 1 Axes>"
      ]
     },
     "metadata": {},
     "output_type": "display_data"
    }
   ],
   "source": [
    "import matplotlib.pyplot as plt\n",
    "\n",
    "# Convert tensors to numpy for plotting\n",
    "predicted_np = preds.detach().numpy()\n",
    "targets_np = targets.detach().numpy()\n",
    "\n",
    "plt.scatter(targets_np[:, 0], targets_np[:, 1], color='blue', label='Actual')\n",
    "plt.scatter(predicted_np[:, 0], predicted_np[:, 1], color='red', label='Predicted')\n",
    "plt.xlabel('Target Apples')\n",
    "plt.ylabel('Target Oranges')\n",
    "plt.title('Actual vs Predicted Values')\n",
    "plt.legend()\n",
    "plt.show()\n"
   ]
  },
  {
   "cell_type": "markdown",
   "id": "9e5cf707-2051-43a9-9ff7-a056910561c2",
   "metadata": {},
   "source": [
    "## Conclusion\n",
    "\n",
    "In this project, we explored the fundamentals of linear regression, a powerful tool for predictive modeling. We learned how to implement a linear regression model from scratch using PyTorch, optimize it with gradient descent, and evaluate its performance through visualizations and metrics.\n",
    "\n",
    "While our model provides a solid introduction to linear regression, there are several areas for improvement that I plan to explore in future projects:\n",
    "\n",
    "1. **Feature Engineering:** I will experiment with polynomial features and feature scaling to capture more complex relationships in the data.\n",
    "\n",
    "2. **Model Complexity:** I aim to implement more advanced models, such as neural networks, to enhance predictive performance.\n",
    "\n",
    "3. **Hyperparameter Tuning:** I will utilize techniques like Grid Search or Random Search to optimize hyperparameters for better model performance.\n",
    "\n",
    "4. **Regularization Techniques:** Implementing L1 and L2 regularization will help prevent overfitting and improve generalization.\n",
    "\n",
    "5. **Cross-Validation:** I plan to use K-Fold cross-validation to ensure that my model generalizes well to unseen data.\n",
    "\n",
    "6. **Advanced Evaluation Metrics:** I will incorporate multiple evaluation metrics, such as R-squared and Mean Absolute Error, to provide a comprehensive assessment of model performance.\n",
    "\n",
    "7. **Visualization of Results:** Creating residual plots will help visualize prediction errors and assess model performance more effectively.\n",
    "\n",
    "8. **Documentation and Presentation:** I will focus on clear documentation and engaging presentations to make my findings accessible to a broader audience.\n",
    "\n",
    "I hope this guide inspires you to dive deeper into the world of machine learning. Stay tuned for my next project, where I will implement these improvements and share my findings. Happy coding, and feel free to reach out if you have any questions or want to share your own experiences with linear regression!\n",
    "\n",
    "---\n",
    "\n",
    "### Rating of the Model\n",
    "\n",
    "On a scale from 1 to 10, I would rate this model an **8**. \n",
    "\n",
    "#### Rationale:\n",
    "- **Strengths:**\n",
    "  - Successfully implements linear regression using PyTorch.\n",
    "  - Provides a good foundation for beginners to understand the concepts of linear regression and optimization.\n",
    "  - Includes visualizations to assess model performance.\n",
    "  - Outlines future directions for improvement, demonstrating a commitment to continuous learning.\n",
    "\n",
    "- **Areas for Improvement:**\n",
    "  - Exploring more complex models and techniques.\n",
    "  - Enhancing feature engineering and hyperparameter tuning.\n",
    "  - Utilizing cross-validation and advanced evaluation metrics for a more comprehensive assessment.\n",
    "\n",
    "This rating reflects the model's educational value and its potential for improvement as I continue to learn and experiment in the field of machine learning."
   ]
  },
  {
   "cell_type": "code",
   "execution_count": null,
   "id": "1598af33-f1e0-4cf9-a5d2-03bdf7e1945e",
   "metadata": {},
   "outputs": [],
   "source": []
  }
 ],
 "metadata": {
  "kernelspec": {
   "display_name": "Python 3 (ipykernel)",
   "language": "python",
   "name": "python3"
  },
  "language_info": {
   "codemirror_mode": {
    "name": "ipython",
    "version": 3
   },
   "file_extension": ".py",
   "mimetype": "text/x-python",
   "name": "python",
   "nbconvert_exporter": "python",
   "pygments_lexer": "ipython3",
   "version": "3.9.4"
  }
 },
 "nbformat": 4,
 "nbformat_minor": 5
}
